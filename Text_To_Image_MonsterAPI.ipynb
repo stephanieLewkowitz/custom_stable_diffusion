{
  "nbformat": 4,
  "nbformat_minor": 0,
  "metadata": {
    "colab": {
      "provenance": []
    },
    "kernelspec": {
      "name": "python3",
      "display_name": "Python 3"
    },
    "language_info": {
      "name": "python"
    }
  },
  "cells": [
    {
      "cell_type": "markdown",
      "source": [
        "## Text to Image Generation MonsterAPI Workflow:\n",
        "\n",
        "MonsterAPI offers you an easy to use and scalable API for using Stable Diffusion v1.5 AI Model to generate high fidelity images from your text instructions (prompts).\n",
        "\n",
        "MonsterAPI is 50% low cost than other alternatives because it relies on Decentralised GPU computing (powered by Q Blocks)."
      ],
      "metadata": {
        "id": "4kl46KNoxn6p"
      }
    },
    {
      "cell_type": "markdown",
      "source": [
        "Enter your Monster X API KEY and BEARER TOKEN below.\n",
        "\n",
        "If you don't have them then do the following:\n",
        "\n",
        "1.   Sign up/login on [MonsterAPI](https://monsterapi.ai/signup)\n",
        "2.   Go to Auth Keys page [here](https://monsterapi.ai/user/settings#api-keys).\n",
        "3.   Click on \"Generate new Key\" and enter any random name. Click \"Generate\".\n",
        "4.   Once generated, copy the \"X API KEY\" and \"BEARER TOKEN\" values.\n",
        "5.   Paste both values below:\n",
        "\n"
      ],
      "metadata": {
        "id": "FHVwXxTynwIK"
      }
    },
    {
      "cell_type": "code",
      "source": [
        "MONSTER_X_API_KEY = '';\n",
        "BEARER_AUTH_TOKEN = '';"
      ],
      "metadata": {
        "id": "dLmA3g7_Ufse"
      },
      "execution_count": null,
      "outputs": []
    },
    {
      "cell_type": "markdown",
      "source": [
        "### In this section you can specify the parameters for image generation:"
      ],
      "metadata": {
        "id": "vrYWaOpmpGP8"
      }
    },
    {
      "cell_type": "code",
      "source": [
        "prompt          = \"b&w photo of 42 y.o man in black clothes, bald, face, half body, body, high detailed skin, skin pores, coastline, overcast weather, wind, waves, 8k uhd, dslr, soft lighting, high quality, film grain, Fujifilm XT3\";\n",
        "negative_prompt = \"(semi-realistic, cgi, 3d, render, sketch, cartoon, drawing, anime:1.4), text, close up, cropped, out of frame, worst quality, low quality, jpeg artifacts, ugly, duplicate, morbid, mutilated, extra fingers, mutated hands, poorly drawn hands, poorly drawn face, mutation, deformed, blurry, dehydrated, bad anatomy, bad proportions, extra limbs, cloned face, disfigured, gross proportions, malformed limbs, missing arms, missing legs, extra arms, extra legs, fused fingers, too many fingers, long neck\";\n",
        "num_images      = 2;                #int: 1 to 4 \n",
        "sampling_steps  = 50;               #int: 30 to 500\n",
        "aspect_ratio    = \"portrait\";       #string: square, landscape, portrait\n",
        "guidance_scale  = 10;               #float: 5.0 to 15.0\n",
        "seed            = 101837751;        #random integer value"
      ],
      "metadata": {
        "id": "UUM28RTUUwLD"
      },
      "execution_count": null,
      "outputs": []
    },
    {
      "cell_type": "markdown",
      "source": [
        "Now we define the functions for sending request to MonsterAPI for image generation and fetching the status of our request:"
      ],
      "metadata": {
        "id": "6CiX8DYCpxLM"
      }
    },
    {
      "cell_type": "code",
      "execution_count": null,
      "metadata": {
        "id": "VQVxlKQ57dyo"
      },
      "outputs": [],
      "source": [
        "import requests\n",
        "import json\n",
        "import time\n",
        "\n",
        "# Function for sending request for image generation\n",
        "def send_request():\n",
        "  url = \"https://api.monsterapi.ai/apis/add-task\"\n",
        "  payload = json.dumps({\n",
        "    \"model\": \"txt2img\",\n",
        "    \"data\": {\n",
        "      \"prompt\": prompt,\n",
        "      \"negprompt\": negative_prompt,\n",
        "      \"samples\": num_images,\n",
        "      \"steps\": sampling_steps,\n",
        "      \"aspect_ratio\": aspect_ratio,\n",
        "      \"guidance_scale\": guidance_scale,\n",
        "      \"seed\": seed\n",
        "    }\n",
        "  })\n",
        "  headers = {\n",
        "    'x-api-key': MONSTER_X_API_KEY,\n",
        "    'Authorization': 'Bearer '+BEARER_AUTH_TOKEN,\n",
        "    'Content-Type': 'application/json'\n",
        "  }\n",
        "\n",
        "  response = requests.request(\"POST\", url, headers=headers, data=payload)\n",
        "  if response.status_code == 200:\n",
        "        response_json = response.json()\n",
        "        process_id = response_json.get('process_id')\n",
        "        return process_id\n",
        "  else:\n",
        "      print(f\"Error: {response.status_code}, {response.text}\")\n",
        "      return None\n",
        "\n",
        "# Function for fetching the status of the image generation request\n",
        "def fetch_status(process_id):\n",
        "    url = \"https://api.monsterapi.ai/apis/task-status\"\n",
        "    payload = json.dumps({\"process_id\": process_id})\n",
        "    headers = {\n",
        "        'x-api-key': MONSTER_X_API_KEY,\n",
        "        'Authorization': 'Bearer ' + BEARER_AUTH_TOKEN,\n",
        "        'Content-Type': 'application/json'\n",
        "    }\n",
        "\n",
        "    response = requests.request(\"POST\", url, headers=headers, data=payload)\n",
        "\n",
        "    if response.status_code == 200:\n",
        "        response_json = response.json()\n",
        "        status = response_json.get('response_data', {}).get('status')\n",
        "        if status == \"COMPLETED\":\n",
        "            output = response_json.get('response_data', {}).get('result', {}).get('output', [])\n",
        "            return status, output\n",
        "        elif status == \"FAILED\":\n",
        "            error = response_json.get('response_data', {}).get('result', {}).get('errorMessage')\n",
        "            return status, error\n",
        "        else:\n",
        "            return status, []\n",
        "    else:\n",
        "        print(f\"Error: {response.status_code}, {response.text}\")\n",
        "        return None, []"
      ]
    },
    {
      "cell_type": "markdown",
      "source": [
        "Here we finally send the request and display the generated image(s):"
      ],
      "metadata": {
        "id": "1_sQzKHNqAIR"
      }
    },
    {
      "cell_type": "code",
      "source": [
        "# Send image generation request\n",
        "process_id  = send_request();\n",
        "\n",
        "# Fetch status and display generated images on getting \"COMPLETED\" status:\n",
        "from IPython.display import Image, display\n",
        "\n",
        "max_retries = 20\n",
        "wait_time = 3\n",
        "retry_count = 0\n",
        "output = []\n",
        "\n",
        "if process_id is not None:\n",
        "  while retry_count < max_retries:\n",
        "      status, output = fetch_status(process_id)\n",
        "\n",
        "      if status in [\"COMPLETED\", \"FAILED\"]:\n",
        "          if status == \"COMPLETED\":\n",
        "              print(\"Output:\", output)\n",
        "              for image_url in output:\n",
        "                  display(Image(url=image_url))\n",
        "          else:\n",
        "              print(\"Task failed\\nError: \"+output)\n",
        "          break\n",
        "      else:\n",
        "        print(\"Status: \", status)\n",
        "      retry_count += 1\n",
        "      time.sleep(wait_time)\n",
        "\n",
        "  if retry_count == max_retries:\n",
        "      print(\"Max retries exceeded\")\n",
        "else:\n",
        "  print(\"Task failed\\nUnknown Error\")"
      ],
      "metadata": {
        "colab": {
          "base_uri": "https://localhost:8080/",
          "height": 1000
        },
        "id": "MpgfJhjRWv0t",
        "outputId": "dbff9cb4-b2ab-49de-f9d2-f5f0496525ed"
      },
      "execution_count": null,
      "outputs": [
        {
          "output_type": "stream",
          "name": "stdout",
          "text": [
            "Status:  IN_QUEUE\n",
            "Status:  IN_QUEUE\n",
            "Status:  IN_QUEUE\n",
            "Status:  IN_QUEUE\n",
            "Status:  IN_QUEUE\n",
            "Status:  IN_PROGRESS\n",
            "Status:  IN_PROGRESS\n",
            "Status:  IN_PROGRESS\n",
            "Status:  IN_PROGRESS\n",
            "Output: ['https://processed-model-result.s3.us-east-2.amazonaws.com/08e795aa-e03f-11ed-96ec-cf845949b6c8_0.png', 'https://processed-model-result.s3.us-east-2.amazonaws.com/08e795aa-e03f-11ed-96ec-cf845949b6c8_1.png']\n"
          ]
        },
        {
          "output_type": "display_data",
          "data": {
            "text/html": [
              "<img src=\"https://processed-model-result.s3.us-east-2.amazonaws.com/08e795aa-e03f-11ed-96ec-cf845949b6c8_0.png\"/>"
            ],
            "text/plain": [
              "<IPython.core.display.Image object>"
            ]
          },
          "metadata": {}
        },
        {
          "output_type": "display_data",
          "data": {
            "text/html": [
              "<img src=\"https://processed-model-result.s3.us-east-2.amazonaws.com/08e795aa-e03f-11ed-96ec-cf845949b6c8_1.png\"/>"
            ],
            "text/plain": [
              "<IPython.core.display.Image object>"
            ]
          },
          "metadata": {}
        }
      ]
    }
  ]
}